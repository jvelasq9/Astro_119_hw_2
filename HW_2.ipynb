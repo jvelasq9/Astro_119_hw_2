{
 "cells": [
  {
   "cell_type": "code",
   "execution_count": null,
   "metadata": {},
   "outputs": [],
   "source": [
    "%matplotlib inline\n",
    "import numpy as np\n",
    "import matplotlib.pyplot as plt"
   ]
  },
  {
   "cell_type": "code",
   "execution_count": null,
   "metadata": {},
   "outputs": [],
   "source": [
    "plt.figure(figsize = (7,5))\n",
    "x = np.linspace(0,2*np.pi,1000)\n",
    "#y = np.arange(-1,10)\n",
    "\n",
    "y0=( 5.5*np.cos(2*x) ) + 5.5\n",
    "y1 = ( 0.02*np.exp(x))\n",
    "y2 = (0.25*(x**2)) + (0.1*np.sin(10*x))\n",
    "\n",
    "plt.plot(x,y0, label='x,y1', color=\"red\")\n",
    "plt.plot(x,y1,label='x,y2', color=\"blue\")\n",
    "plt.plot(x,y2,label='x,y3', color=\"green\")\n",
    "#plt.title(\"Time in Astr/Eart 119 vs. Measures of Awesomeness \",Fontsize=15)\n",
    "plt.ylabel(\"Time in Astr/Eart 119\",Fontsize=13)\n",
    "plt.xlabel(\"Measures of Awesomeness\",Fontsize=13)\n",
    "plt.xlim(0,2*np.pi)\n",
    "plt.ylim(-1,10)\n",
    "plt.legend(loc=4)\n",
    "plt.show()"
   ]
  },
  {
   "cell_type": "code",
   "execution_count": null,
   "metadata": {},
   "outputs": [],
   "source": []
  }
 ],
 "metadata": {
  "kernelspec": {
   "display_name": "Python 3",
   "language": "python",
   "name": "python3"
  },
  "language_info": {
   "codemirror_mode": {
    "name": "ipython",
    "version": 3
   },
   "file_extension": ".py",
   "mimetype": "text/x-python",
   "name": "python",
   "nbconvert_exporter": "python",
   "pygments_lexer": "ipython3",
   "version": "3.6.5"
  }
 },
 "nbformat": 4,
 "nbformat_minor": 2
}
